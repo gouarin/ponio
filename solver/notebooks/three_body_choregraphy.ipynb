{
 "cells": [
  {
   "cell_type": "markdown",
   "id": "06235e35",
   "metadata": {},
   "source": [
    "# three-body choregraphy"
   ]
  },
  {
   "cell_type": "markdown",
   "id": "539b8899",
   "metadata": {},
   "source": [
    "In this notebook we will present multiple example of three-body problem where the solution is remarquable and already done in this [gallery](http://three-body.ipb.ac.rs/).\n",
    "\n",
    "We solve a restriction of $n$-body problem in 2 dimensions (we can remove $z$ direction without loss of generality). We note vector position $r_i=(x_i,y_i)$ of the mass $m_i$, $i=1,2,3$. The problem can be write as\n",
    "\n",
    "$$\n",
    "  \\begin{aligned}\n",
    "    \\ddot{r}_1 &= -Gm_2\\frac{r_1 - r_2}{|r_1-r_2|^3} - Gm_3\\frac{r_1 - r_3}{|r_1-r_3|^3} \\\\\n",
    "    \\ddot{r}_2 &= -Gm_1\\frac{r_2 - r_1}{|r_2-r_1|^3} - Gm_3\\frac{r_2 - r_3}{|r_2-r_3|^3} \\\\\n",
    "    \\ddot{r}_3 &= -Gm_1\\frac{r_3 - r_1}{|r_3-r_1|^3} - Gm_2\\frac{r_3 - r_2}{|r_3-r_2|^3} \\\\\n",
    "  \\end{aligned}\n",
    "$$\n",
    "\n",
    "In the restriction we also set all mass to $1$: $m_i = 1$, $i=1,2,3$, and gravitational constant $G=1$ (the problem is nondimensioned)."
   ]
  },
  {
   "cell_type": "markdown",
   "id": "a31245dd",
   "metadata": {},
   "source": [
    "Ponio is build to solve first order ODE, so we need to rewrite our problem with a change of variable:\n",
    "\n",
    "$$\n",
    "  \\begin{aligned}\n",
    "    \\dot{y}_0 &= x_1 \\\\\n",
    "    \\dot{y}_1 &= y_1 \\\\\n",
    "    \\dot{y}_2 &= x_2 \\\\\n",
    "    \\dot{y}_3 &= y_2 \\\\\n",
    "    \\dot{y}_4 &= x_3 \\\\\n",
    "    \\dot{y}_5 &= y_3 \\\\\n",
    "    \\dot{y}_6 &= \\dot{x}_1 \\\\\n",
    "    \\dot{y}_7 &= \\dot{y}_1 \\\\\n",
    "    \\dot{y}_8 &= \\dot{x}_2 \\\\\n",
    "    \\dot{y}_9 &= \\dot{y}_2 \\\\\n",
    "    \\dot{y}_{10} &= \\dot{x}_3 \\\\\n",
    "    \\dot{y}_{11} &= \\dot{y}_3 \\\\\n",
    "  \\end{aligned}\n",
    "$$\n",
    "\n",
    "and the solve the problem done by\n",
    "\n",
    "$$\n",
    "  \\begin{aligned}\n",
    "    \\dot{y}_0 &= \\dot{y}_6 \\\\\n",
    "    \\dot{y}_1 &= \\dot{y}_7 \\\\\n",
    "    \\dot{y}_2 &= \\dot{y}_8 \\\\\n",
    "    \\dot{y}_3 &= \\dot{y}_9 \\\\\n",
    "    \\dot{y}_4 &= \\dot{y}_{10} \\\\\n",
    "    \\dot{y}_5 &= \\dot{y}_{11} \\\\\n",
    "    \\dot{y}_6 &= - \\frac{y_0 - y_2}{|r_1-r_2|^3} - \\frac{y_0 - y_4}{|r_1-r_2|^3} \\\\\n",
    "    \\dot{y}_7 &= - \\frac{y_1 - y_3}{|r_1-r_2|^3} - \\frac{y_1 - y_5}{|r_1-r_2|^3} \\\\\n",
    "    \\dot{y}_8 &= - \\frac{y_2 - y_0}{|r_1-r_2|^3} - \\frac{y_2 - y_4}{|r_1-r_2|^3} \\\\\n",
    "    \\dot{y}_9 &= - \\frac{y_3 - y_1}{|r_1-r_2|^3} - \\frac{y_3 - y_5}{|r_1-r_2|^3} \\\\\n",
    "    \\dot{y}_{10} &= - \\frac{y_4 - y_0}{|r_1-r_2|^3} - \\frac{y_4 - y_2}{|r_1-r_2|^3} \\\\\n",
    "    \\dot{y}_{11} &= - \\frac{y_5 - y_1}{|r_1-r_2|^3} - \\frac{y_5 - y_3}{|r_1-r_2|^3} \\\\\n",
    "  \\end{aligned}\n",
    "$$\n",
    "\n",
    "with $r_1 = (y_0, y_1)$, $r_2 = (y_2, y_3)$ and $r_3 = (y_4, y_5)$."
   ]
  },
  {
   "cell_type": "code",
   "execution_count": null,
   "id": "d03f7806",
   "metadata": {},
   "outputs": [],
   "source": [
    "%system mkdir -p n_body_demo"
   ]
  },
  {
   "cell_type": "code",
   "execution_count": null,
   "id": "8c1af46e",
   "metadata": {},
   "outputs": [],
   "source": [
    "%%writefile n_body_demo/n_body.cpp\n",
    "\n",
    "#include <iostream>\n",
    "#include <numeric>\n",
    "#include <valarray>\n",
    "#include <numbers>\n",
    "#include <cstdlib>\n",
    "#include <filesystem>\n",
    "\n",
    "#include <solver/problem.hpp>\n",
    "#include <solver/solver.hpp>\n",
    "#include <solver/observer.hpp>\n",
    "#include <solver/butcher_methods.hpp>\n",
    "\n",
    "struct nbody_model\n",
    "{\n",
    "    using vector_t = std::valarray<double>;\n",
    "    using state_t  = std::valarray<double>;\n",
    "    \n",
    "    double G;\n",
    "    double m1, m2, m3;\n",
    "    std::size_t ncoord;\n",
    "  \n",
    "    nbody_model()\n",
    "    : G(1.), m1(1.), m2(1.), m3(1.), ncoord(2)\n",
    "    {}\n",
    "    \n",
    "    vector_t frac( vector_t const& u )\n",
    "    {\n",
    "        double norm = 1./std::pow(std::sqrt(u[0]*u[0] + u[1]*u[1]),3);\n",
    "        return norm*u;\n",
    "    }\n",
    "    \n",
    "    state_t operator () (double t , state_t const& y)\n",
    "    {\n",
    "        vector_t r1={y[0*ncoord+0], y[0*ncoord+1]},\n",
    "                 r2={y[1*ncoord+0], y[1*ncoord+1]},\n",
    "                 r3={y[2*ncoord+0], y[2*ncoord+1]};\n",
    "        vector_t dr1 = - G*m2*frac(r1-r2) - G*m3*frac(r1-r3);\n",
    "        vector_t dr2 = - G*m3*frac(r2-r3) - G*m1*frac(r2-r1);\n",
    "        vector_t dr3 = - G*m1*frac(r3-r1) - G*m2*frac(r3-r2);\n",
    "        \n",
    "       return {\n",
    "           y[3*ncoord+0],y[3*ncoord+1],\n",
    "           y[4*ncoord+0],y[4*ncoord+1],\n",
    "           y[5*ncoord+0],y[5*ncoord+1],\n",
    "           dr1[0],dr1[1],\n",
    "           dr2[0],dr2[1],\n",
    "           dr3[0],dr3[1]\n",
    "       };\n",
    "    }\n",
    "};\n",
    "\n",
    "int main(int argc, char** argv)\n",
    "{\n",
    "    auto A = nbody_model();\n",
    "    auto nbody_model_pb  = ode::make_simple_problem(A);\n",
    "    \n",
    "    std::filesystem::path output = \"n_body/orbit.txt\";\n",
    "    double tf = 10.0;\n",
    "    nbody_model::state_t  yini;\n",
    "    \n",
    "    if (argc > 1) {\n",
    "        output = argv[1];\n",
    "        \n",
    "        if (argc == 5) {\n",
    "            double p1 = std::atof(argv[2]);\n",
    "            double p2 = std::atof(argv[3]);\n",
    "            tf = std::atof(argv[4]);\n",
    "            \n",
    "            yini = {\n",
    "                -1,0,\n",
    "                1,0,\n",
    "                0,0,\n",
    "                p1,p2,\n",
    "                p1,p2,\n",
    "                -2*p1,-2*p2\n",
    "            };\n",
    "        } else if (argc == 15) {\n",
    "            double x1 = std::atof(argv[2]), y1 = std::atof(argv[3]);\n",
    "            double x2 = std::atof(argv[4]), y2 = std::atof(argv[5]);\n",
    "            double x3 = std::atof(argv[6]), y3 = std::atof(argv[7]);\n",
    "            \n",
    "            double vx1 = std::atof(argv[ 8]), vy1 = std::atof(argv[ 9]);\n",
    "            double vx2 = std::atof(argv[10]), vy2 = std::atof(argv[11]);\n",
    "            double vx3 = std::atof(argv[12]), vy3 = std::atof(argv[13]);\n",
    "            \n",
    "            tf = std::atof(argv[14]);\n",
    "            \n",
    "            yini = {\n",
    "                x1, y1,\n",
    "                x2, y2,\n",
    "                x3, y3,\n",
    "                vx1, vy1,\n",
    "                vx2, vy2,\n",
    "                vx3, vy3\n",
    "            };\n",
    "        }\n",
    "    }\n",
    "\n",
    "    double dt = 1e-5;\n",
    "\n",
    "    ode::solve(nbody_model_pb, ode::butcher::rk54_7m(1e-6), yini, {0.,tf}, dt, observer::file_observer(output) );\n",
    "   \n",
    "    return 0;\n",
    "}"
   ]
  },
  {
   "cell_type": "code",
   "execution_count": null,
   "id": "a9245b3b",
   "metadata": {},
   "outputs": [],
   "source": [
    "%system $CXX -std=c++20 -I ../include -I ${CONDA_PREFIX}/include n_body_demo/n_body.cpp -o n_body_demo/n_body"
   ]
  },
  {
   "cell_type": "code",
   "execution_count": null,
   "id": "f90542cf",
   "metadata": {},
   "outputs": [],
   "source": [
    "import numpy as np\n",
    "import matplotlib.pyplot as plt"
   ]
  },
  {
   "cell_type": "code",
   "execution_count": null,
   "id": "689fc341",
   "metadata": {},
   "outputs": [],
   "source": [
    "import subprocess\n",
    "\n",
    "def launch(label, *args):\n",
    "    tf = args[-1]\n",
    "    opt = args[:-1]\n",
    "    if len(opt) == 2:\n",
    "        args = \"{} {}\".format(*opt)\n",
    "    else:\n",
    "        args = \"{} {} {} {} {} {} {} {} {} {} {} {}\".format(*opt)\n",
    "        \n",
    "    cmd = subprocess.Popen(\"./n_body_demo/n_body n_body_demo/{}.txt {} {}\".format(label,args,tf).split())\n",
    "    cmd.wait()\n",
    "    \n",
    "    data = np.loadtxt(\"n_body_demo/{}.txt\".format(label))\n",
    "    t = data[:,0]\n",
    "    x1 = data[:,2*0+1]\n",
    "    y1 = data[:,2*0+2]\n",
    "    x2 = data[:,2*1+1]\n",
    "    y2 = data[:,2*1+2]\n",
    "    x3 = data[:,2*2+1]\n",
    "    y3 = data[:,2*2+2]\n",
    "    \n",
    "    plt.plot(x1, y1, \"-\", linewidth=1)\n",
    "    plt.plot(x2, y2, \"-\", linewidth=1)\n",
    "    plt.plot(x3, y3, \"-\", linewidth=1)\n",
    "    \n",
    "    plt.show()"
   ]
  },
  {
   "cell_type": "markdown",
   "id": "f436a839",
   "metadata": {},
   "source": [
    "[Figure 8](http://three-body.ipb.ac.rs/sol.php?id=1)"
   ]
  },
  {
   "cell_type": "code",
   "execution_count": null,
   "id": "91f47778",
   "metadata": {},
   "outputs": [],
   "source": [
    "launch(\"figure8\", 0.347111, 0.532728, 6.324449)"
   ]
  },
  {
   "cell_type": "markdown",
   "id": "208fdb2b",
   "metadata": {},
   "source": [
    "[Butterfly IV](http://three-body.ipb.ac.rs/sol.php?id=11)"
   ]
  },
  {
   "cell_type": "code",
   "execution_count": null,
   "id": "27d84c2c",
   "metadata": {},
   "outputs": [],
   "source": [
    "launch(\"butterflyIV\", 0.350112, 0.079339, 79.475875)"
   ]
  },
  {
   "cell_type": "code",
   "execution_count": null,
   "id": "5a0ca9c1",
   "metadata": {},
   "outputs": [],
   "source": [
    "launch(\"butterflyIII\", 0.405916, 0.230163, 13.865763)"
   ]
  },
  {
   "cell_type": "code",
   "execution_count": null,
   "id": "46199aa7",
   "metadata": {},
   "outputs": [],
   "source": [
    "launch(\"dragonfly\", 0.080584, 0.588836, 21.270975)"
   ]
  },
  {
   "cell_type": "code",
   "execution_count": null,
   "id": "bbc0275f",
   "metadata": {},
   "outputs": [],
   "source": [
    "launch(\"mothII\", 0.439166, 0.452968, 28.670278)"
   ]
  },
  {
   "cell_type": "code",
   "execution_count": null,
   "id": "a0cf5552",
   "metadata": {},
   "outputs": [],
   "source": [
    "launch(\"BrouckeA1\",\n",
    "           -0.9892620043,0.0000000000,\n",
    "           2.2096177241,0.0000000000,\n",
    "           -1.2203557197,0.0000000000,\n",
    "           0.0000000000,1.9169244185,\n",
    "           0.0000000000,0.1910268738,\n",
    "           0.0000000000,-2.1079512924\n",
    "       , 6.283213)"
   ]
  },
  {
   "cell_type": "code",
   "execution_count": null,
   "id": "15b14811",
   "metadata": {},
   "outputs": [],
   "source": [
    "launch(\"ovals_flourishes\",\n",
    "           0.716248295713, 0.384288553041,\n",
    "           0.086172594591, 1.342795868577,\n",
    "           0.538777980808, 0.481049882656,\n",
    "           1.245268230896, 2.444311951777,\n",
    "           -0.675224323690,-0.962879613630,\n",
    "           -0.570043907206,-1.481432338147\n",
    "       , 8.094721)"
   ]
  },
  {
   "cell_type": "code",
   "execution_count": null,
   "id": "b8050c87",
   "metadata": {},
   "outputs": [],
   "source": [
    "launch(\"ovals_catface_starship\",\n",
    "          0.536387073390, 0.054088605008,\n",
    "          -0.252099126491, 0.694527327749,\n",
    "          -0.275706601688, -0.335933589318,\n",
    "          -0.569379585581, 1.255291102531,\n",
    "          0.079644615252, -0.458625997341,\n",
    "          0.489734970329, -0.796665105189\n",
    "       , 5.026055)"
   ]
  },
  {
   "cell_type": "code",
   "execution_count": null,
   "id": "a0fdc520",
   "metadata": {},
   "outputs": [],
   "source": [
    "launch(\"skinny_pineapple\",\n",
    "        0.419698802831  , 1.190466261252,\n",
    "        0.076399621771  , 0.296331688995,\n",
    "        0.100310663856  , -0.729358656127,\n",
    "        0.102294566003  ,  0.687248445943,\n",
    "        0.148950262064  ,  0.240179781043,\n",
    "        -0.251244828060 ,  -0.927428226977\n",
    "       , 5.095054)"
   ]
  },
  {
   "cell_type": "code",
   "execution_count": null,
   "id": "e8008bfa",
   "metadata": {},
   "outputs": [],
   "source": [
    "launch(\"PT1\",\n",
    "        0.708322208567, 0.473311928207,\n",
    "        0.167739458699, -0.057913961029,\n",
    "        -0.506578687024, -0.306825234531,\n",
    "        0.824266639920, 0.522197827478,\n",
    "        -0.077017015655, -0.167288552679,\n",
    "        -0.747249624265, -0.354909274800\n",
    "       , 5.403011)"
   ]
  },
  {
   "cell_type": "code",
   "execution_count": null,
   "id": "8365ba1a",
   "metadata": {},
   "outputs": [],
   "source": [
    "launch(\"PT2\",\n",
    "        0.865355422048 , 0.629488893636,\n",
    "        0.085036793559 , -0.013305780704,\n",
    "        -0.090983494772, -0.892179296799,\n",
    "        0.288687787607 , 0.171289709267,\n",
    "        -0.220256752039, 0.090375753071,\n",
    "        -0.068431035568, -0.261665462337\n",
    "       , 5.427986)"
   ]
  },
  {
   "cell_type": "code",
   "execution_count": null,
   "id": "29f122b0",
   "metadata": {},
   "outputs": [],
   "source": [
    "launch(\"butterflyI.2.A\",\n",
    "        0.306893,\n",
    "        0.125507,\n",
    "       6.234671)"
   ]
  },
  {
   "cell_type": "code",
   "execution_count": null,
   "id": "cc508b94",
   "metadata": {},
   "outputs": [],
   "source": [
    "launch(\"butterflyI.2.B\",\n",
    "        0.392955,\n",
    "        0.097579,\n",
    "       7.003707)"
   ]
  },
  {
   "cell_type": "code",
   "execution_count": null,
   "id": "2ab74824",
   "metadata": {},
   "outputs": [],
   "source": [
    "launch(\"butterflyI.5.A\",\n",
    "        0.411293,\n",
    "        0.260755,\n",
    "       20.749072)"
   ]
  },
  {
   "cell_type": "code",
   "execution_count": null,
   "id": "315fea2c",
   "metadata": {},
   "outputs": [],
   "source": [
    "launch(\"butterflyI.9.A\",\n",
    "        0.402712,\n",
    "        0.210016,\n",
    "       34.711515)"
   ]
  },
  {
   "cell_type": "code",
   "execution_count": null,
   "id": "418bcb33",
   "metadata": {},
   "outputs": [],
   "source": [
    "launch(\"butterflyI.11.A\",\n",
    "        0.415251,\n",
    "        0.291346,\n",
    "       47.925856)"
   ]
  },
  {
   "cell_type": "code",
   "execution_count": null,
   "id": "128c26c4",
   "metadata": {},
   "outputs": [],
   "source": [
    "launch(\"butterflyI.12.A\",\n",
    "        0.408211,\n",
    "        0.243685,\n",
    "       48.486856)"
   ]
  },
  {
   "cell_type": "code",
   "execution_count": null,
   "id": "9d070531",
   "metadata": {},
   "outputs": [],
   "source": [
    "launch(\"butterflyI.14.A\",\n",
    "        0.415169,\n",
    "        0.295341,\n",
    "       61.323559)"
   ]
  },
  {
   "cell_type": "code",
   "execution_count": null,
   "id": "02948ad5",
   "metadata": {},
   "outputs": [],
   "source": [
    "launch(\"butterflyI.16.A\",\n",
    "        0.404132,\n",
    "        0.219164,\n",
    "       62.446820)"
   ]
  },
  {
   "cell_type": "code",
   "execution_count": null,
   "id": "3de0c70e",
   "metadata": {},
   "outputs": [],
   "source": [
    "launch(\"butterflyI.17.A\",\n",
    "        0.397220,\n",
    "        0.169198,\n",
    "       62.627594)"
   ]
  },
  {
   "cell_type": "code",
   "execution_count": null,
   "id": "55408453",
   "metadata": {},
   "outputs": [],
   "source": [
    "launch(\"butterflyI.19.A\",\n",
    "        0.407376,\n",
    "        0.238843,\n",
    "       76.221970)"
   ]
  },
  {
   "cell_type": "code",
   "execution_count": null,
   "id": "bb9f69d9",
   "metadata": {},
   "outputs": [],
   "source": [
    "launch(\"butterflyI.20.A\",\n",
    "        0.401559,\n",
    "        0.202266,\n",
    "       76.401096)"
   ]
  },
  {
   "cell_type": "code",
   "execution_count": null,
   "id": "58b45d2a",
   "metadata": {},
   "outputs": [],
   "source": [
    "launch(\"butterflyI.21.A\",\n",
    "        0.396058,\n",
    "        0.158601,\n",
    "       76.592744)"
   ]
  },
  {
   "cell_type": "code",
   "execution_count": null,
   "id": "09c5915e",
   "metadata": {},
   "outputs": [],
   "source": [
    "launch(\"butterflyI.23.A\",\n",
    "        0.404679,\n",
    "        0.222598,\n",
    "       90.181106)"
   ]
  },
  {
   "cell_type": "code",
   "execution_count": null,
   "id": "12754257",
   "metadata": {},
   "outputs": [],
   "source": [
    "launch(\"butterflyI.25.A\",\n",
    "        0.395290,\n",
    "        0.150852,\n",
    "       90.562075)"
   ]
  },
  {
   "cell_type": "code",
   "execution_count": null,
   "id": "e6f0a127",
   "metadata": {},
   "outputs": [],
   "source": [
    "launch(\"dragonflyII.4.A\",\n",
    "        0.080584,\n",
    "        0.588836,\n",
    "       21.272338)"
   ]
  },
  {
   "cell_type": "code",
   "execution_count": null,
   "id": "9bba7261",
   "metadata": {},
   "outputs": [],
   "source": [
    "launch(\"dragonflyII.6.A\",\n",
    "        0.186238,\n",
    "        0.578714,\n",
    "       33.641422)"
   ]
  },
  {
   "cell_type": "code",
   "execution_count": null,
   "id": "cc6d7b60",
   "metadata": {},
   "outputs": [],
   "source": [
    "launch(\"dragonflyII.8.A\",\n",
    "        0.144812,\n",
    "        0.542898,\n",
    "       38.062055)"
   ]
  },
  {
   "cell_type": "code",
   "execution_count": null,
   "id": "44254fdf",
   "metadata": {},
   "outputs": [],
   "source": [
    "launch(\"dragonflyII.14.A\",\n",
    "        0.108253,\n",
    "        0.609812,\n",
    "       82.135651)"
   ]
  },
  {
   "cell_type": "code",
   "execution_count": null,
   "id": "0058927f",
   "metadata": {},
   "outputs": [],
   "source": [
    "launch(\"dragonflyII.14.B\",\n",
    "        0.074732,\n",
    "        0.567936,\n",
    "       68.991156)"
   ]
  },
  {
   "cell_type": "code",
   "execution_count": null,
   "id": "e98c7fbd",
   "metadata": {},
   "outputs": [],
   "source": [
    "launch(\"dragonflyII.15.A\",\n",
    "        0.049051,\n",
    "        0.590194,\n",
    "       79.152719)"
   ]
  },
  {
   "cell_type": "code",
   "execution_count": null,
   "id": "df231929",
   "metadata": {},
   "outputs": [],
   "source": [
    "launch(\"dragonflyII.15.C\",\n",
    "        0.047547,\n",
    "        0.564659,\n",
    "       72.400492)"
   ]
  },
  {
   "cell_type": "code",
   "execution_count": null,
   "id": "d2309d54",
   "metadata": {},
   "outputs": [],
   "source": [
    "launch(\"dragonflyII.15.D\",\n",
    "        0.179107,\n",
    "        0.572603,\n",
    "       81.599501)"
   ]
  },
  {
   "cell_type": "code",
   "execution_count": null,
   "id": "25df502d",
   "metadata": {},
   "outputs": [],
   "source": [
    "launch(\"dragonflyII.16.A\",\n",
    "        0.073903,\n",
    "        0.619865,\n",
    "       95.810473)"
   ]
  },
  {
   "cell_type": "code",
   "execution_count": null,
   "id": "e9aa96ad",
   "metadata": {},
   "outputs": [],
   "source": [
    "launch(\"dragonflyII.17.A\",\n",
    "        0.061053,\n",
    "        0.609177,\n",
    "       96.873248)"
   ]
  },
  {
   "cell_type": "code",
   "execution_count": null,
   "id": "666d8c6c",
   "metadata": {},
   "outputs": [],
   "source": [
    "launch(\"dragonflyII.17.B\",\n",
    "        0.050367,\n",
    "        0.570341,\n",
    "       83.684255)"
   ]
  },
  {
   "cell_type": "code",
   "execution_count": null,
   "id": "d27c3d76",
   "metadata": {},
   "outputs": [],
   "source": [
    "launch(\"dragonflyII.17.C\",\n",
    "        0.179557,\n",
    "        0.581300,\n",
    "       95.474382)"
   ]
  },
  {
   "cell_type": "code",
   "execution_count": null,
   "id": "286797da",
   "metadata": {},
   "outputs": [],
   "source": [
    "launch(\"yingyangIII.3.A.a\",\n",
    "        0.513938,\n",
    "        0.304736,\n",
    "       17.328810)"
   ]
  },
  {
   "cell_type": "code",
   "execution_count": null,
   "id": "532e0b5b",
   "metadata": {},
   "outputs": [],
   "source": [
    "launch(\"yingyangIII.3.A.b\",\n",
    "        0.282699,\n",
    "        0.327209,\n",
    "       10.963252)"
   ]
  },
  {
   "cell_type": "code",
   "execution_count": null,
   "id": "0f2b5023",
   "metadata": {},
   "outputs": [],
   "source": [
    "launch(\"yingyangIII.9.A.a\",\n",
    "        0.513150,\n",
    "        0.289437,\n",
    "       50.407145)"
   ]
  },
  {
   "cell_type": "code",
   "execution_count": null,
   "id": "3c32fe9e",
   "metadata": {},
   "outputs": [],
   "source": [
    "launch(\"yingyangIII.12.A.a\",\n",
    "        0.416822,\n",
    "        0.330333,\n",
    "       55.789329)"
   ]
  },
  {
   "cell_type": "code",
   "execution_count": null,
   "id": "fda73050",
   "metadata": {},
   "outputs": [],
   "source": [
    "launch(\"yingyangIII.12.A.b\",\n",
    "        0.417343,\n",
    "        0.313100,\n",
    "       54.208001)"
   ]
  },
  {
   "cell_type": "code",
   "execution_count": null,
   "id": "e52dcb8a",
   "metadata": {},
   "outputs": [],
   "source": [
    "launch(\"yingyangIII.13.A.a\",\n",
    "        0.416444,\n",
    "        0.336397,\n",
    "       63.406504)"
   ]
  },
  {
   "cell_type": "code",
   "execution_count": null,
   "id": "58ad4f4e",
   "metadata": {},
   "outputs": [],
   "source": [
    "launch(\"yingyangIII.13.A.b\",\n",
    "        0.415819,\n",
    "        0.306804,\n",
    "       60.150751)"
   ]
  },
  {
   "cell_type": "code",
   "execution_count": null,
   "id": "592159b0",
   "metadata": {},
   "outputs": [],
   "source": [
    "launch(\"yingyangIII.15.A.a\",\n",
    "        0.414396,\n",
    "        0.339223,\n",
    "       70.492561)"
   ]
  },
  {
   "cell_type": "code",
   "execution_count": null,
   "id": "3b947f20",
   "metadata": {},
   "outputs": [],
   "source": [
    "launch(\"yingyangIII.15.A.b\",\n",
    "        0.417701,\n",
    "        0.303455,\n",
    "       66.751098)"
   ]
  },
  {
   "cell_type": "code",
   "execution_count": null,
   "id": "ea662446",
   "metadata": {},
   "outputs": [],
   "source": [
    "launch(\"yingyangIII.15.B.a\",\n",
    "        0.513063,\n",
    "        0.296863,\n",
    "       85.129064)"
   ]
  },
  {
   "cell_type": "code",
   "execution_count": null,
   "id": "4d69514c",
   "metadata": {},
   "outputs": [],
   "source": [
    "launch(\"yingyangIII.15.B.b\",\n",
    "        0.282036,\n",
    "        0.325643,\n",
    "       54.639089)"
   ]
  },
  {
   "cell_type": "code",
   "execution_count": null,
   "id": "4f32c810",
   "metadata": {},
   "outputs": [],
   "source": [
    "launch(\"yingyangIII.15.C.a\",\n",
    "        0.516228,\n",
    "        0.311409,\n",
    "       88.440089)"
   ]
  },
  {
   "cell_type": "code",
   "execution_count": null,
   "id": "8ed7bb8f",
   "metadata": {},
   "outputs": [],
   "source": [
    "launch(\"yingyangIII.15.C.b\",\n",
    "        0.280396,\n",
    "        0.329229,\n",
    "       54.820022)"
   ]
  },
  {
   "cell_type": "code",
   "execution_count": null,
   "id": "46ea9064",
   "metadata": {},
   "outputs": [],
   "source": [
    "launch(\"yingyangIII.16.A.a\",\n",
    "        0.427659,\n",
    "        0.340300,\n",
    "       80.146699)"
   ]
  },
  {
   "cell_type": "code",
   "execution_count": null,
   "id": "0ddeda02",
   "metadata": {},
   "outputs": [],
   "source": [
    "launch(\"yingyangIII.16.A.b\",\n",
    "        0.429098,\n",
    "        0.299359,\n",
    "       74.845173)"
   ]
  },
  {
   "cell_type": "code",
   "execution_count": null,
   "id": "b9afd420",
   "metadata": {},
   "outputs": [],
   "source": [
    "launch(\"yingyangIII.18.A.a\",\n",
    "        0.413720,\n",
    "        0.341698,\n",
    "       84.855117)"
   ]
  },
  {
   "cell_type": "code",
   "execution_count": null,
   "id": "6ac7b274",
   "metadata": {},
   "outputs": [],
   "source": [
    "launch(\"yingyangIII.18.A.b\",\n",
    "        0.414643,\n",
    "        0.301216,\n",
    "       79.283684)"
   ]
  },
  {
   "cell_type": "code",
   "execution_count": null,
   "id": "70bdb141",
   "metadata": {},
   "outputs": [],
   "source": [
    "launch(\"yingyangIII.19.A.b\",\n",
    "        0.418091,\n",
    "        0.299900,\n",
    "       86.360447)"
   ]
  },
  {
   "cell_type": "code",
   "execution_count": null,
   "id": "5b55cbfc",
   "metadata": {},
   "outputs": [],
   "source": [
    "launch(\"yingyangIII.21.A.b\",\n",
    "        0.418259,\n",
    "        0.299482,\n",
    "       92.981286)"
   ]
  },
  {
   "cell_type": "code",
   "execution_count": null,
   "id": "fb70d40a",
   "metadata": {},
   "outputs": [],
   "source": [
    "launch(\"butterflyIVb.3.A\",\n",
    "        0.405916,\n",
    "        0.230163,\n",
    "       13.867124)"
   ]
  },
  {
   "cell_type": "markdown",
   "id": "7db9c9a5",
   "metadata": {},
   "source": [
    "Et si on faisait une fonction pour récupérer directement tous les cas tests ? puis les lancer. À améliorer :\n",
    "\n",
    "* ne faire que extraire les données des différents cas tests (nom, période et p1, p2)\n",
    "* exporter ceci en json\n",
    "* code C++ prend en entrer le fichier json, et sort un fichier text de ponio\n",
    "* pytest pour comparer les résultats de ponio avec ref (générer par ponio avec un solveur et un pas de temps tout petit ? avec SciPy ? avec la figure de ref des exemples ?)\n",
    "* lancer ceci depuis ailleurs que le réseau instable du train"
   ]
  },
  {
   "cell_type": "code",
   "execution_count": null,
   "id": "524f2f39",
   "metadata": {
    "scrolled": false
   },
   "outputs": [],
   "source": [
    "import urllib.request\n",
    "import re\n",
    "\n",
    "begin = \"var text = \"\n",
    "end = \"\\n\\n\\n\\n\\n\\n// Here you can put in the text you want to make it type\"\n",
    "\n",
    "for i in range(31):\n",
    "    with urllib.request.urlopen('http://three-body.ipb.ac.rs/sIVb_sol.php?id={}'.format(i)) as response:\n",
    "        html = response.read()\n",
    "        \n",
    "        idx = html.find(bytes(begin,\"utf-8\"))\n",
    "        jdx = html.find(bytes(end,\"utf-8\"))\n",
    "        \n",
    "        data = html[idx+len(begin)+1:jdx-7].decode(\"utf-8\")\n",
    "        \n",
    "        name = re.findall(\"NAME: ([^*]*) \\\\\\\\n DISCOVERED\",data)[0]\n",
    "        periode = float(re.findall(\"PERIOD: ([^*]*)\\\\\\\\n ENERGY\",data)[0])\n",
    "        p1 = float(re.findall(\"p1: ([^*]*)\\\\\\\\n p2\",data)[0])\n",
    "        p2 = float(re.findall(\"p2: ([^*]*)\\\\\\\\n\",data)[0])\n",
    "        \n",
    "        print(f\"butterfly{name}\",p1,p2,periode)\n",
    "        launch(f\"butterfly{name}\",p1,p2,periode)"
   ]
  },
  {
   "cell_type": "code",
   "execution_count": null,
   "id": "f66796f7",
   "metadata": {},
   "outputs": [],
   "source": [
    "import matplotlib.animation as animation\n",
    "from IPython.display import HTML\n",
    "from scipy.interpolate import interp1d\n",
    "\n",
    "def anime(label):\n",
    "    data = np.loadtxt(\"n_body_demo/{}.txt\".format(label))\n",
    "    t = data[:,0]\n",
    "    success_t = (t[1:] - t[:-1]) != 0\n",
    "    \n",
    "    t1 = t[:-1][success_t]\n",
    "    x1 = data[:,2*0+1][:-1][success_t]\n",
    "    y1 = data[:,2*0+2][:-1][success_t]\n",
    "    x2 = data[:,2*1+1][:-1][success_t]\n",
    "    y2 = data[:,2*1+2][:-1][success_t]\n",
    "    x3 = data[:,2*2+1][:-1][success_t]\n",
    "    y3 = data[:,2*2+2][:-1][success_t]\n",
    "    \n",
    "    #plt.plot(x1[:-1][success_t],y1[:-1][success_t],lw=1)\n",
    "    #plt.plot(x2[:-1][success_t],y2[:-1][success_t],lw=1)\n",
    "    #plt.plot(x3[:-1][success_t],y3[:-1][success_t],lw=1)\n",
    "    \n",
    "    fx1 = interp1d(t1,x1,kind='cubic')\n",
    "    fy1 = interp1d(t1,y1,kind='cubic')\n",
    "    \n",
    "    fx2 = interp1d(t1,x2,kind='cubic')\n",
    "    fy2 = interp1d(t1,y2,kind='cubic')\n",
    "    \n",
    "    fx3 = interp1d(t1,x3,kind='cubic')\n",
    "    fy3 = interp1d(t1,y3,kind='cubic')\n",
    "    \n",
    "    \n",
    "    time = np.linspace(t1[0],t1[-1],2000)\n",
    "    X1, Y1 = (fx1(time), fy1(time))\n",
    "    X2, Y2 = (fx2(time), fy2(time))\n",
    "    X3, Y3 = (fx3(time), fy3(time))\n",
    "    \n",
    "    number_of_frames = np.size(time)\n",
    "    \n",
    "    def update_plot(n):\n",
    "        r1.set_data(X1[max(0,n-100):n+1],Y1[max(0,n-100):n+1])\n",
    "        r2.set_data(X2[max(0,n-100):n+1],Y2[max(0,n-100):n+1])\n",
    "        r3.set_data(X3[max(0,n-100):n+1],Y3[max(0,n-100):n+1])\n",
    "\n",
    "        m1.set_data([X1[n]],[Y1[n]])\n",
    "        m2.set_data([X2[n]],[Y2[n]])\n",
    "        m3.set_data([X3[n]],[Y3[n]])\n",
    "\n",
    "        ax.set_title(\"n = {}\".format(n))\n",
    "        return r1, r2, r3, m1, m2, m3\n",
    "    \n",
    "    fig = plt.figure()\n",
    "    ax = plt.axes(xlim=(-1.5, 1.5), ylim=(-1.6, 1.6))\n",
    "    r1, = ax.plot([], [], '-', lw=1, color=\"#686de0\")\n",
    "    r2, = ax.plot([], [], '-', lw=1, color=\"#ffbe76\")\n",
    "    r3, = ax.plot([], [], '-', lw=1, color=\"#badc58\")\n",
    "\n",
    "    m1, = ax.plot([], [], 'o', color=\"#4834d4\")\n",
    "    m2, = ax.plot([], [], 'o', color=\"#f0932b\")\n",
    "    m3, = ax.plot([], [], 'o', color=\"#6ab04c\")\n",
    "\n",
    "    ani = animation.FuncAnimation(fig, update_plot, frames=number_of_frames, repeat=False, interval=20 )\n",
    "    plt.close()\n",
    "    return HTML(ani.to_html5_video())\n",
    "    \n",
    "#anime(\"figure8\")\n",
    "anime(\"dragonflyII.15.A\")\n",
    "#anime(\"yingyangIII.12.A.a\")"
   ]
  },
  {
   "cell_type": "code",
   "execution_count": null,
   "id": "7401c0b6",
   "metadata": {},
   "outputs": [],
   "source": [
    "anime(\"figure8\")"
   ]
  },
  {
   "cell_type": "code",
   "execution_count": null,
   "id": "ca9677ec",
   "metadata": {},
   "outputs": [],
   "source": []
  }
 ],
 "metadata": {
  "kernelspec": {
   "display_name": "Python 3 (ipykernel)",
   "language": "python",
   "name": "python3"
  },
  "language_info": {
   "codemirror_mode": {
    "name": "ipython",
    "version": 3
   },
   "file_extension": ".py",
   "mimetype": "text/x-python",
   "name": "python",
   "nbconvert_exporter": "python",
   "pygments_lexer": "ipython3",
   "version": "3.10.6"
  }
 },
 "nbformat": 4,
 "nbformat_minor": 5
}
