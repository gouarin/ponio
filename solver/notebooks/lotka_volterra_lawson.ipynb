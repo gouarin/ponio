{
 "cells": [
  {
   "cell_type": "markdown",
   "id": "f9f325ad",
   "metadata": {},
   "source": [
    "# Lotka-Volterra system with a Lawson method"
   ]
  },
  {
   "cell_type": "markdown",
   "id": "65171bfd",
   "metadata": {},
   "source": [
    "> In this example we reuse previous definition in [Lotka-Voleterra resolution with Runge-Kutta method](lotka_volterra_rungekutta.ipynb) which is the first tutorial. In this notebook we solve the same example. "
   ]
  },
  {
   "cell_type": "markdown",
   "id": "67c77e27",
   "metadata": {},
   "source": [
    "The system is definied as:\n",
    "\n",
    "$$\n",
    "  \\begin{aligned}\n",
    "    \\frac{\\mathrm{d}x}{\\mathrm{d}t} &= \\alpha x  - \\beta xy \\\\\n",
    "    \\frac{\\mathrm{d}y}{\\mathrm{d}t} &= \\delta xy - \\gamma y \\\\\n",
    "  \\end{aligned}\n",
    "$$\n",
    "\n",
    "where:\n",
    "\n",
    "* $x$ is the number of prey\n",
    "* $y$ is the number of predators\n",
    "* $t$ represents time\n",
    "* $\\alpha$, $\\beta$, $\\gamma$ and $\\delta$ are postive real parameters describing the interaction of the two species.\n",
    "\n",
    "We would like to compute the invariant $V$ definied by:\n",
    "\n",
    "$$\n",
    "  V = \\delta x - \\gamma \\ln(x) + \\beta y - \\alpha \\ln(y)\n",
    "$$"
   ]
  },
  {
   "cell_type": "markdown",
   "id": "11bf44c4",
   "metadata": {},
   "source": [
    "## Lawson methods\n",
    "\n",
    "Lawson methods are a class of time integration schemes that are applied to differential equations of the form:\n",
    "\n",
    "$$\n",
    "  \\dot{u} = Lu + N(t,u), \\qquad u(t=0) = u_0\n",
    "$$\n",
    "\n",
    "where $L$ is a matric and $N:(t,u)\\mapsto N(t,u)$ is a, in general nonlinear, function of the unknow $u$, and the time $t\\geq 0$. Lawson methods are especially efficient when applied to problems where $L$ implies a stringent stability condition if it is treated explicitly. Solving this equation with a Lawson method relies of the following change of variable:\n",
    "$$\n",
    "  v(t) := e^{-tL}u(t)\n",
    "$$\n",
    "Plugging this into our equation yields\n",
    "$$\n",
    "  \\dot{v} = e^{-tL}N(t,e^{tL}v)\n",
    "$$\n",
    "Now an explicit Runge-Kutta method is applied to the transformed equation. We introduce the time discretization $t^n = n\\Delta t$ with $\\Delta t>0$ the time step, $n\\in\\mathbb{N}$ and $u^n$ (respectivement $v^n$) denotes the numerical approximation of $u(t^n)$ (resp. $v(t^n)$). For the sake of simplicity, we first present the method for the explicit Euler scheme. Applying the forward Euler method to this problem leads to\n",
    "\n",
    "$$\n",
    "  v(t^n+\\Delta t)\\approx v^{n+1} = v^n + \\Delta t e^{-t^nL}N(t^n, e^{t^nL}v^n)\n",
    "$$\n",
    "\n",
    "Reversing the change of variable $u(t) = e^{tL}v(t)$ yields the following scheme for $u^n$\n",
    "\n",
    "$$\n",
    "  u(t^n+\\Delta t)\\approx u^{n+1} = e^{\\Delta t L}u^n + \\Delta t e^{\\Delta tL}N(t^n, u^n)\n",
    "$$\n",
    "\n",
    "This is the Lawson-Euler method, also a method of order one. More generally, the Lawson method induced by an explicit Runge-Kutta method RK($s$,$p$) with $s$ stages of order $p$ can be written as:\n",
    "\n",
    "$$\n",
    "  \\begin{aligned}\n",
    "    k_i &= e^{-c_i\\Delta t L}N(t^n + c_i\\Delta t, e^{c_i\\Delta tL}(u^n + \\Delta t\\sum_{j=1}^s\n",
    "a_{ij}k_j)\\\\\n",
    "    u^{n+1} &= e^{\\Delta tL}(u^n + \\Delta t\\sum_{i=1}^s b_ik_i)\n",
    "  \\end{aligned}\n",
    "$$"
   ]
  },
  {
   "cell_type": "markdown",
   "id": "00291dfc",
   "metadata": {},
   "source": [
    "Here, we defined the following linear and non linear part:\n",
    "\n",
    "$$\n",
    "  L = \\begin{pmatrix}\n",
    "      \\alpha & 0 \\\\\n",
    "      0 & -\\gamma\n",
    "    \\end{pmatrix}, \\qquad\n",
    "  N:(t,u)\\mapsto \\begin{pmatrix}\n",
    "    -\\beta xy \\\\\n",
    "    \\delta xy\n",
    "  \\end{pmatrix}\n",
    "$$\n",
    "\n",
    "Ponio doesn't provide a general exponential function, nor a matrix data structure, so we recommend to use [Eigen](https://eigen.tuxfamily.org). In this case linear part is diagonally so we can only use a `std::valarray<double>` as other examples.\n",
    "\n",
    "To keep $L$ and $N$ in a same object, Ponio provide a `ode::lawson_problem`:\n",
    "\n",
    "```cpp\n",
    "state_t L = {alpha, -gamma};\n",
    "auto N = [=]( double t, state_t const& un ) -> state_t {\n",
    "    double x = un[0], y = un[1];\n",
    "    return { -beta*x*y, delta*x*y };\n",
    "};\n",
    "\n",
    "auto pb = ode::make_lawson_problem(L, N);\n",
    "```\n",
    "\n",
    "This problem `pb` can be use as a `ode::simple_problem` or `ode::problem`. If we call `ode::solve` with a `ode::lawson_problem` and a Lawson algorithm (same name as Runge-Kutta algorithm but prefixed by `l`) Ponio applies a Lawson method to solve the problem. Calling a Lawson algorithm neeed to provide a exponential function, here we propose a solution with overloading of exponential function for `std::valarray`.\n",
    "\n",
    "```cpp\n",
    "auto exp = [](state_t const& x)->state_t { return std::exp(x); };\n",
    "ode::solve(pb, ode::butcher::lrk_44<>(exp), u_ini, {0.,tf}, dt, \"lv_demo/lv1_lawson.dat\"_fobs);\n",
    "```"
   ]
  },
  {
   "cell_type": "code",
   "execution_count": null,
   "id": "9093db3f",
   "metadata": {},
   "outputs": [],
   "source": [
    "%system mkdir -p lv_demo"
   ]
  },
  {
   "cell_type": "code",
   "execution_count": null,
   "id": "684aeb01",
   "metadata": {},
   "outputs": [],
   "source": [
    "%%writefile lv_demo/lv1_lawson.cpp\n",
    "\n",
    "#include <iostream>\n",
    "#include <valarray>\n",
    "\n",
    "#include \"solver/solver.hpp\"\n",
    "#include \"solver/observer.hpp\"\n",
    "#include \"solver/problem.hpp\"\n",
    "#include \"solver/butcher_methods.hpp\"\n",
    "\n",
    "int main()\n",
    "{\n",
    "    using state_t = std::valarray<double>;\n",
    "    using namespace observer;\n",
    "\n",
    "    double alpha = 2./3., beta=4./3., gamma=1., delta=1.;\n",
    "    \n",
    "    state_t L = { alpha, -gamma };\n",
    "    auto N = [=]( double t, state_t const& u ) -> state_t {\n",
    "        double x=u[0], y=u[1];\n",
    "        return { -beta*x*y, delta*x*y };\n",
    "    };\n",
    "    auto pb  = ode::make_lawson_problem(L,N);\n",
    "    \n",
    "    auto exp = [](state_t const& x)->state_t { return std::exp(x); };\n",
    "\n",
    "    double dt = 0.1;\n",
    "    double tf = 100;\n",
    "    state_t u_ini = {1.8,1.8};\n",
    "\n",
    "    ode::solve(pb, ode::butcher::lrk_44(exp), u_ini, {0.,tf}, dt, \"lv_demo/lv1_lawson.dat\"_fobs);\n",
    "\n",
    "    return 0;\n",
    "}"
   ]
  },
  {
   "cell_type": "code",
   "execution_count": null,
   "id": "b0d297f3",
   "metadata": {},
   "outputs": [],
   "source": [
    "%system $CXX -std=c++20 -I ../include lv_demo/lv1_lawson.cpp -o lv_demo/lv1_lawson && ./lv_demo/lv1_lawson"
   ]
  },
  {
   "cell_type": "code",
   "execution_count": null,
   "id": "b383cab1",
   "metadata": {},
   "outputs": [],
   "source": [
    "import numpy as np\n",
    "import matplotlib.pyplot as plt"
   ]
  },
  {
   "cell_type": "code",
   "execution_count": null,
   "id": "959724e3",
   "metadata": {},
   "outputs": [],
   "source": [
    "data = np.loadtxt(\"lv_demo/lv1_lawson.dat\")\n",
    "t = data[:,0]\n",
    "x = data[:,1]\n",
    "y = data[:,2]"
   ]
  },
  {
   "cell_type": "code",
   "execution_count": null,
   "id": "6485de67",
   "metadata": {},
   "outputs": [],
   "source": [
    "plt.plot(t,x,label=\"prey\")\n",
    "plt.plot(t,y,label=\"predator\")\n",
    "plt.xlabel(\"time\")\n",
    "plt.legend()\n",
    "plt.show()"
   ]
  },
  {
   "cell_type": "markdown",
   "id": "4fb59593",
   "metadata": {},
   "source": [
    "Now define the invariant $V$ :\n",
    "    \n",
    "$$\n",
    "  V = \\delta x - \\ln(x) + \\beta y - \\alpha \\ln(y)\n",
    "$$"
   ]
  },
  {
   "cell_type": "code",
   "execution_count": null,
   "id": "02e58d64",
   "metadata": {},
   "outputs": [],
   "source": [
    "def V(x,y, alpha=2./3., beta=4./3., gamma=1., delta=1.):\n",
    "    return delta*x - np.log(x) + beta*y - alpha*np.log(y)"
   ]
  },
  {
   "cell_type": "code",
   "execution_count": null,
   "id": "f98cbb55",
   "metadata": {},
   "outputs": [],
   "source": [
    "V0 = V(x[0],y[0])\n",
    "plt.plot(t,V(x,y)/V0-1.,label=\"LRK(4,4)\")\n",
    "plt.axhline(0,0,1,linestyle=\"--\",color=\"grey\",linewidth=1)\n",
    "plt.title(\"Relative error on invariant $V$\")\n",
    "plt.xlabel(\"time\")\n",
    "plt.legend()\n",
    "plt.show()"
   ]
  },
  {
   "cell_type": "code",
   "execution_count": null,
   "id": "79f53f4a",
   "metadata": {},
   "outputs": [],
   "source": []
  }
 ],
 "metadata": {
  "kernelspec": {
   "display_name": "Python 3 (ipykernel)",
   "language": "python",
   "name": "python3"
  },
  "language_info": {
   "codemirror_mode": {
    "name": "ipython",
    "version": 3
   },
   "file_extension": ".py",
   "mimetype": "text/x-python",
   "name": "python",
   "nbconvert_exporter": "python",
   "pygments_lexer": "ipython3",
   "version": "3.10.6"
  }
 },
 "nbformat": 4,
 "nbformat_minor": 5
}
