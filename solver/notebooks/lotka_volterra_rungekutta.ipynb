{
 "cells": [
  {
   "cell_type": "markdown",
   "id": "e1fb2439",
   "metadata": {},
   "source": [
    "# Lotka-Volterra system with a Runge-Kutta method"
   ]
  },
  {
   "cell_type": "markdown",
   "id": "5aa84e0a",
   "metadata": {},
   "source": [
    "In this example we present how to write a program to solve the Lotka-Volterra equations with Ponio.\n",
    "\n",
    "The system is definied as:\n",
    "\n",
    "$$\n",
    "  \\begin{aligned}\n",
    "    \\frac{\\mathrm{d}x}{\\mathrm{d}t} &= \\alpha x  - \\beta xy \\\\\n",
    "    \\frac{\\mathrm{d}y}{\\mathrm{d}t} &= \\delta xy - \\gamma y \\\\\n",
    "  \\end{aligned}\n",
    "$$\n",
    "\n",
    "where:\n",
    "\n",
    "* $x$ is the number of prey\n",
    "* $y$ is the number of predators\n",
    "* $t$ represents time\n",
    "* $\\alpha$, $\\beta$, $\\gamma$ and $\\delta$ are postive real parameters describing the interaction of the two species.\n",
    "\n",
    "We would like to compute the invariant $V$ definied by:\n",
    "\n",
    "$$\n",
    "  V = \\delta x - \\gamma \\ln(x) + \\beta y - \\alpha \\ln(y)\n",
    "$$"
   ]
  },
  {
   "cell_type": "markdown",
   "id": "be3d4eda",
   "metadata": {},
   "source": [
    "## Define the state\n",
    "\n",
    "In Ponio is build to solve a problem defined as:\n",
    "\n",
    "$$\n",
    "  \\dot{u}(t) = f(t,u(t))\n",
    "$$\n",
    "\n",
    "we defined as a state (or `state_t`) the type which represents $u$. In scalar problems, `state_t` is often `double`. In system problems, `state_t` has multiple composants and Ponio need to make some arithmetic operations on it, so it can be a [`std::valarray<double>`](https://en.cppreference.com/w/cpp/numeric/valarray) or [Eigen vector](https://eigen.tuxfamily.org/index.php?title=Main_Page), etc.\n",
    "\n",
    "For Lotka-Volterra we have 2 composants so we will use in this example `std::valarray<double>`. We can defined this as:\n",
    "\n",
    "```cpp\n",
    "  using state_t = std::valarray<double>;\n",
    "```"
   ]
  },
  {
   "cell_type": "markdown",
   "id": "84fe81a2",
   "metadata": {},
   "source": [
    "## Define problem\n",
    "\n",
    "The [`ode::solve`](#) function take as first argument a problem. In Ponio, a problem is a invokable object that take two arguments: $t$ the current time, and $u$ the current solution. So a problem can be:\n",
    "\n",
    "* a simple function\n",
    "* a lambda function\n",
    "* a functor\n",
    "* a [`ode::problem`](#) (which need an invokable object)\n",
    "\n",
    "A problem represents function $f$ in $\\dot{u}=f(t,u)$ ODE. We would like to change easly  parameter so we will use a functor (a class that overload `()` operator):\n",
    "\n",
    "```cpp\n",
    "#include <valarray>\n",
    "\n",
    "class Lotka_Volterra\n",
    "{\n",
    "    using state_t = std::valarray<double>;\n",
    "\n",
    "    double alpha;\n",
    "    double beta;\n",
    "    double gamma;\n",
    "    double delta;\n",
    "\n",
    "    public:\n",
    "\n",
    "    Lotka_Volterra(double a, double b, double g, double d)\n",
    "    : alpha(a), beta(b), gamma(g), delta(d)\n",
    "    {}\n",
    "\n",
    "    state_t\n",
    "    operator() (double tn, state_t const& un)\n",
    "    {\n",
    "        double x = un[0], y = un[1];\n",
    "        double dx = alpha*x - beta*x*y;\n",
    "        double dy = delta*x*y - gamma*y;\n",
    "        return {dx,dy};\n",
    "    }\n",
    "};\n",
    "```"
   ]
  },
  {
   "cell_type": "markdown",
   "id": "06862610",
   "metadata": {},
   "source": [
    "## Simple example\n",
    "\n",
    "If we would like to save all iterations into a file we can use a `observer::file_observer`, if we would like to display all into `std::cout` we can use `observer::cout_observer`. In this example we print all into a file.\n",
    "\n",
    "```cpp\n",
    "int main()\n",
    "{\n",
    "    using state_t = std::valarray<double>;\n",
    "    using namespace observer;\n",
    "\n",
    "    double alpha = 2./3., beta=4./3., gamma=1., delta=1.;\n",
    "    auto pb  = Lotka_Volterra(alpha,beta,gamma,delta);\n",
    "\n",
    "    double dt = 0.1;\n",
    "    double tf = 100;\n",
    "    state_t u_ini = {1.8,1.8};\n",
    "\n",
    "    ode::solve(pb, ode::butcher::rk_44<>(), u_ini, {0.,tf}, dt, \"lv1.dat\"_fobs);\n",
    "\n",
    "    return 0;\n",
    "}\n",
    "```\n",
    "\n",
    "Where `ode::butcher::rk_44<>()` create an instance of algorithm to solve the problem, which represent classical RK(4,4) method."
   ]
  },
  {
   "cell_type": "code",
   "execution_count": null,
   "id": "c001b63c",
   "metadata": {},
   "outputs": [],
   "source": [
    "%system mkdir -p lv_demo"
   ]
  },
  {
   "cell_type": "code",
   "execution_count": null,
   "id": "3587557e",
   "metadata": {},
   "outputs": [],
   "source": [
    "%%writefile lv_demo/lv1.cpp\n",
    "\n",
    "#include <iostream>\n",
    "#include <valarray>\n",
    "\n",
    "#include \"solver/solver.hpp\"\n",
    "#include \"solver/observer.hpp\"\n",
    "#include \"solver/butcher_methods.hpp\"\n",
    "\n",
    "class Lotka_Volterra\n",
    "{\n",
    "    using state_t = std::valarray<double>;\n",
    "\n",
    "    double alpha;\n",
    "    double beta;\n",
    "    double gamma;\n",
    "    double delta;\n",
    "\n",
    "    public:\n",
    "\n",
    "    Lotka_Volterra(double a, double b, double g, double d)\n",
    "    : alpha(a), beta(b), gamma(g), delta(d)\n",
    "    {}\n",
    "\n",
    "    state_t\n",
    "    operator() (double tn, state_t const& un)\n",
    "    {\n",
    "        double x = un[0], y = un[1];\n",
    "        double dx = alpha*x - beta*x*y;\n",
    "        double dy = delta*x*y - gamma*y;\n",
    "        return {dx,dy};\n",
    "    }\n",
    "};\n",
    "\n",
    "int main()\n",
    "{\n",
    "    using state_t = std::valarray<double>;\n",
    "    using namespace observer;\n",
    "\n",
    "    double alpha = 2./3., beta=4./3., gamma=1., delta=1.;\n",
    "    auto pb  = Lotka_Volterra(alpha,beta,gamma,delta);\n",
    "\n",
    "    double dt = 0.1;\n",
    "    double tf = 100;\n",
    "    state_t u_ini = {1.8,1.8};\n",
    "\n",
    "    ode::solve(pb, ode::butcher::rk_44<>(), u_ini, {0.,tf}, dt, \"lv_demo/lv1.dat\"_fobs);\n",
    "\n",
    "    return 0;\n",
    "}"
   ]
  },
  {
   "cell_type": "code",
   "execution_count": null,
   "id": "eb01add4",
   "metadata": {},
   "outputs": [],
   "source": [
    "%system $CXX -std=c++20 -I ../include lv_demo/lv1.cpp -o lv_demo/lv1 && ./lv_demo/lv1"
   ]
  },
  {
   "cell_type": "code",
   "execution_count": null,
   "id": "2124924a",
   "metadata": {},
   "outputs": [],
   "source": [
    "import numpy as np\n",
    "import matplotlib.pyplot as plt"
   ]
  },
  {
   "cell_type": "code",
   "execution_count": null,
   "id": "95264ff4",
   "metadata": {},
   "outputs": [],
   "source": [
    "data = np.loadtxt(\"lv_demo/lv1.dat\")\n",
    "t = data[:,0]\n",
    "x = data[:,1]\n",
    "y = data[:,2]"
   ]
  },
  {
   "cell_type": "code",
   "execution_count": null,
   "id": "4fdf785b",
   "metadata": {},
   "outputs": [],
   "source": [
    "plt.plot(t,x,label=\"prey\")\n",
    "plt.plot(t,y,label=\"predator\")\n",
    "plt.xlabel(\"time\")\n",
    "plt.legend()\n",
    "plt.show()"
   ]
  },
  {
   "cell_type": "code",
   "execution_count": null,
   "id": "07bb7092",
   "metadata": {},
   "outputs": [],
   "source": [
    "plt.plot(x,y)\n",
    "plt.xlabel(\"prey\")\n",
    "plt.ylabel(\"predator\")\n",
    "plt.title(\"Phase plane\")\n",
    "plt.show()"
   ]
  },
  {
   "cell_type": "markdown",
   "id": "6b44693f",
   "metadata": {},
   "source": [
    "Now define the invariant $V$ :\n",
    "    \n",
    "$$\n",
    "  V = \\delta x - \\ln(x) + \\beta y - \\alpha \\ln(y)\n",
    "$$"
   ]
  },
  {
   "cell_type": "code",
   "execution_count": null,
   "id": "25b438bb",
   "metadata": {},
   "outputs": [],
   "source": [
    "def V(x,y, alpha=2./3., beta=4./3., gamma=1., delta=1.):\n",
    "    return delta*x - np.log(x) + beta*y - alpha*np.log(y)"
   ]
  },
  {
   "cell_type": "code",
   "execution_count": null,
   "id": "7cee9dd6",
   "metadata": {},
   "outputs": [],
   "source": [
    "plt.plot(t,V(x,y))\n",
    "plt.xlabel(\"time\")\n",
    "plt.ylabel(\"invanriant $V$\")\n",
    "vmax = max(V(x,y))\n",
    "plt.ylim([(1-5e-4)*vmax,(1+5e-4)*vmax])\n",
    "plt.show()"
   ]
  },
  {
   "cell_type": "code",
   "execution_count": null,
   "id": "6014b666",
   "metadata": {},
   "outputs": [],
   "source": []
  }
 ],
 "metadata": {
  "kernelspec": {
   "display_name": "Python 3 (ipykernel)",
   "language": "python",
   "name": "python3"
  },
  "language_info": {
   "codemirror_mode": {
    "name": "ipython",
    "version": 3
   },
   "file_extension": ".py",
   "mimetype": "text/x-python",
   "name": "python",
   "nbconvert_exporter": "python",
   "pygments_lexer": "ipython3",
   "version": "3.10.6"
  }
 },
 "nbformat": 4,
 "nbformat_minor": 5
}
